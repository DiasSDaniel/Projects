{
 "cells": [
  {
   "cell_type": "code",
   "execution_count": 1,
   "id": "3e1acd25",
   "metadata": {},
   "outputs": [],
   "source": [
    "import numpy as np\n",
    "import pandas as pd\n",
    "import matplotlib as mp\n",
    "import matplotlib.pyplot as plt\n",
    "from sklearn.model_selection import train_test_split\n",
    "from sklearn.ensemble import RandomForestClassifier\n",
    "from sklearn.neighbors import KNeighborsClassifier\n",
    "from sklearn.linear_model import LogisticRegression\n",
    "from sklearn.model_selection import cross_val_score, cross_val_predict, GridSearchCV, KFold\n",
    "from sklearn.metrics import confusion_matrix, precision_score, recall_score, f1_score,  precision_recall_curve, roc_curve, roc_auc_score"
   ]
  },
  {
   "cell_type": "code",
   "execution_count": 2,
   "id": "a32694c8",
   "metadata": {},
   "outputs": [],
   "source": [
    "ocr_names = pd.read_excel('letter.names.xlsx', header=None)\n",
    "ocr_names_list = ocr_names[0].values.tolist()\n",
    "ocr_data = pd.read_excel('letter.data.xlsx', header=None, names=ocr_names_list)\n",
    "ocr_data = ocr_data.drop(columns=['id','next_id','word_id','position','fold'])"
   ]
  },
  {
   "cell_type": "code",
   "execution_count": 3,
   "id": "30049efb",
   "metadata": {},
   "outputs": [
    {
     "data": {
      "text/html": [
       "<div>\n",
       "<style scoped>\n",
       "    .dataframe tbody tr th:only-of-type {\n",
       "        vertical-align: middle;\n",
       "    }\n",
       "\n",
       "    .dataframe tbody tr th {\n",
       "        vertical-align: top;\n",
       "    }\n",
       "\n",
       "    .dataframe thead th {\n",
       "        text-align: right;\n",
       "    }\n",
       "</style>\n",
       "<table border=\"1\" class=\"dataframe\">\n",
       "  <thead>\n",
       "    <tr style=\"text-align: right;\">\n",
       "      <th></th>\n",
       "      <th>letter</th>\n",
       "      <th>p_0_0</th>\n",
       "      <th>p_0_1</th>\n",
       "      <th>p_0_2</th>\n",
       "      <th>p_0_3</th>\n",
       "      <th>p_0_4</th>\n",
       "      <th>p_0_5</th>\n",
       "      <th>p_0_6</th>\n",
       "      <th>p_0_7</th>\n",
       "      <th>p_1_0</th>\n",
       "      <th>...</th>\n",
       "      <th>p_14_6</th>\n",
       "      <th>p_14_7</th>\n",
       "      <th>p_15_0</th>\n",
       "      <th>p_15_1</th>\n",
       "      <th>p_15_2</th>\n",
       "      <th>p_15_3</th>\n",
       "      <th>p_15_4</th>\n",
       "      <th>p_15_5</th>\n",
       "      <th>p_15_6</th>\n",
       "      <th>p_15_7</th>\n",
       "    </tr>\n",
       "  </thead>\n",
       "  <tbody>\n",
       "    <tr>\n",
       "      <th>0</th>\n",
       "      <td>o</td>\n",
       "      <td>0</td>\n",
       "      <td>0</td>\n",
       "      <td>0</td>\n",
       "      <td>0</td>\n",
       "      <td>0</td>\n",
       "      <td>0</td>\n",
       "      <td>0</td>\n",
       "      <td>0</td>\n",
       "      <td>0</td>\n",
       "      <td>...</td>\n",
       "      <td>0</td>\n",
       "      <td>0</td>\n",
       "      <td>0</td>\n",
       "      <td>0</td>\n",
       "      <td>0</td>\n",
       "      <td>0</td>\n",
       "      <td>0</td>\n",
       "      <td>0</td>\n",
       "      <td>0</td>\n",
       "      <td>0</td>\n",
       "    </tr>\n",
       "    <tr>\n",
       "      <th>1</th>\n",
       "      <td>m</td>\n",
       "      <td>0</td>\n",
       "      <td>0</td>\n",
       "      <td>0</td>\n",
       "      <td>0</td>\n",
       "      <td>0</td>\n",
       "      <td>0</td>\n",
       "      <td>0</td>\n",
       "      <td>0</td>\n",
       "      <td>0</td>\n",
       "      <td>...</td>\n",
       "      <td>0</td>\n",
       "      <td>0</td>\n",
       "      <td>0</td>\n",
       "      <td>0</td>\n",
       "      <td>0</td>\n",
       "      <td>0</td>\n",
       "      <td>0</td>\n",
       "      <td>0</td>\n",
       "      <td>0</td>\n",
       "      <td>0</td>\n",
       "    </tr>\n",
       "    <tr>\n",
       "      <th>2</th>\n",
       "      <td>m</td>\n",
       "      <td>0</td>\n",
       "      <td>0</td>\n",
       "      <td>0</td>\n",
       "      <td>0</td>\n",
       "      <td>0</td>\n",
       "      <td>0</td>\n",
       "      <td>0</td>\n",
       "      <td>0</td>\n",
       "      <td>0</td>\n",
       "      <td>...</td>\n",
       "      <td>0</td>\n",
       "      <td>0</td>\n",
       "      <td>0</td>\n",
       "      <td>0</td>\n",
       "      <td>0</td>\n",
       "      <td>0</td>\n",
       "      <td>0</td>\n",
       "      <td>0</td>\n",
       "      <td>0</td>\n",
       "      <td>0</td>\n",
       "    </tr>\n",
       "    <tr>\n",
       "      <th>3</th>\n",
       "      <td>a</td>\n",
       "      <td>0</td>\n",
       "      <td>0</td>\n",
       "      <td>0</td>\n",
       "      <td>0</td>\n",
       "      <td>0</td>\n",
       "      <td>0</td>\n",
       "      <td>0</td>\n",
       "      <td>0</td>\n",
       "      <td>0</td>\n",
       "      <td>...</td>\n",
       "      <td>0</td>\n",
       "      <td>0</td>\n",
       "      <td>0</td>\n",
       "      <td>0</td>\n",
       "      <td>0</td>\n",
       "      <td>0</td>\n",
       "      <td>0</td>\n",
       "      <td>0</td>\n",
       "      <td>0</td>\n",
       "      <td>0</td>\n",
       "    </tr>\n",
       "    <tr>\n",
       "      <th>4</th>\n",
       "      <td>n</td>\n",
       "      <td>0</td>\n",
       "      <td>0</td>\n",
       "      <td>0</td>\n",
       "      <td>0</td>\n",
       "      <td>0</td>\n",
       "      <td>0</td>\n",
       "      <td>0</td>\n",
       "      <td>0</td>\n",
       "      <td>0</td>\n",
       "      <td>...</td>\n",
       "      <td>0</td>\n",
       "      <td>0</td>\n",
       "      <td>0</td>\n",
       "      <td>0</td>\n",
       "      <td>0</td>\n",
       "      <td>0</td>\n",
       "      <td>0</td>\n",
       "      <td>0</td>\n",
       "      <td>0</td>\n",
       "      <td>0</td>\n",
       "    </tr>\n",
       "  </tbody>\n",
       "</table>\n",
       "<p>5 rows × 129 columns</p>\n",
       "</div>"
      ],
      "text/plain": [
       "  letter  p_0_0  p_0_1  p_0_2  p_0_3  p_0_4  p_0_5  p_0_6  p_0_7  p_1_0  ...  \\\n",
       "0      o      0      0      0      0      0      0      0      0      0  ...   \n",
       "1      m      0      0      0      0      0      0      0      0      0  ...   \n",
       "2      m      0      0      0      0      0      0      0      0      0  ...   \n",
       "3      a      0      0      0      0      0      0      0      0      0  ...   \n",
       "4      n      0      0      0      0      0      0      0      0      0  ...   \n",
       "\n",
       "   p_14_6  p_14_7  p_15_0  p_15_1  p_15_2  p_15_3  p_15_4  p_15_5  p_15_6  \\\n",
       "0       0       0       0       0       0       0       0       0       0   \n",
       "1       0       0       0       0       0       0       0       0       0   \n",
       "2       0       0       0       0       0       0       0       0       0   \n",
       "3       0       0       0       0       0       0       0       0       0   \n",
       "4       0       0       0       0       0       0       0       0       0   \n",
       "\n",
       "   p_15_7  \n",
       "0       0  \n",
       "1       0  \n",
       "2       0  \n",
       "3       0  \n",
       "4       0  \n",
       "\n",
       "[5 rows x 129 columns]"
      ]
     },
     "execution_count": 3,
     "metadata": {},
     "output_type": "execute_result"
    }
   ],
   "source": [
    "ocr_data.head()"
   ]
  },
  {
   "cell_type": "code",
   "execution_count": 4,
   "id": "2d26356a",
   "metadata": {},
   "outputs": [
    {
     "name": "stdout",
     "output_type": "stream",
     "text": [
      "<class 'pandas.core.frame.DataFrame'>\n",
      "RangeIndex: 52152 entries, 0 to 52151\n",
      "Columns: 129 entries, letter to p_15_7\n",
      "dtypes: int64(128), object(1)\n",
      "memory usage: 51.3+ MB\n"
     ]
    }
   ],
   "source": [
    "ocr_data.info()"
   ]
  },
  {
   "cell_type": "code",
   "execution_count": 5,
   "id": "de415671",
   "metadata": {},
   "outputs": [
    {
     "data": {
      "text/plain": [
       "0"
      ]
     },
     "execution_count": 5,
     "metadata": {},
     "output_type": "execute_result"
    }
   ],
   "source": [
    "ocr_data.isnull().sum().sum()"
   ]
  },
  {
   "cell_type": "code",
   "execution_count": 6,
   "id": "3fda04ba",
   "metadata": {},
   "outputs": [
    {
     "data": {
      "text/plain": [
       "<AxesSubplot:>"
      ]
     },
     "execution_count": 6,
     "metadata": {},
     "output_type": "execute_result"
    },
    {
     "data": {
      "image/png": "[encoded data removed]",
      "text/plain": [
       "<Figure size 432x288 with 1 Axes>"
      ]
     },
     "metadata": {
      "needs_background": "light"
     },
     "output_type": "display_data"
    }
   ],
   "source": [
    "ocr_data['letter'].value_counts().plot(kind='barh')"
   ]
  },
  {
   "cell_type": "code",
   "execution_count": 7,
   "id": "85ea920d",
   "metadata": {},
   "outputs": [],
   "source": [
    "X, y = ocr_data.iloc[:,1:].to_numpy(), ocr_data.iloc[:,0].to_numpy()"
   ]
  },
  {
   "cell_type": "code",
   "execution_count": 8,
   "id": "94b7a8f0",
   "metadata": {},
   "outputs": [
    {
     "data": {
      "text/plain": [
       "'y'"
      ]
     },
     "metadata": {},
     "output_type": "display_data"
    },
    {
     "data": {
      "text/plain": [
       "16297"
      ]
     },
     "metadata": {},
     "output_type": "display_data"
    }
   ],
   "source": [
    "rdm_idx = np.random.randint(52151)\n",
    "rdm_letter =  X[rdm_idx]\n",
    "display(y[rdm_idx], rdm_idx)"
   ]
  },
  {
   "cell_type": "code",
   "execution_count": 9,
   "id": "05112e47",
   "metadata": {},
   "outputs": [
    {
     "data": {
      "image/png": "[encoded data removed]",
      "text/plain": [
       "<Figure size 432x288 with 1 Axes>"
      ]
     },
     "metadata": {
      "needs_background": "light"
     },
     "output_type": "display_data"
    }
   ],
   "source": [
    "some_letter_image = rdm_letter.reshape(16, 8)\n",
    "plt.imshow(some_letter_image, cmap = mp.cm.binary, interpolation='nearest')\n",
    "plt.axis('off')\n",
    "plt.show()"
   ]
  },
  {
   "cell_type": "code",
   "execution_count": 10,
   "id": "72908368",
   "metadata": {},
   "outputs": [],
   "source": [
    "X_train, X_test, y_train, y_test = train_test_split(X, y, test_size=0.3, stratify=y, random_state=25)"
   ]
  },
  {
   "cell_type": "code",
   "execution_count": 11,
   "id": "04f43e78",
   "metadata": {},
   "outputs": [
    {
     "data": {
      "image/png": "[encoded data removed]",
      "text/plain": [
       "<Figure size 432x288 with 1 Axes>"
      ]
     },
     "metadata": {
      "needs_background": "light"
     },
     "output_type": "display_data"
    }
   ],
   "source": [
    "models = {'KNN' : KNeighborsClassifier(), 'LogReg' : LogisticRegression(max_iter=1000), 'RandFor' : RandomForestClassifier()}\n",
    "results = []\n",
    "for model in models.values():\n",
    "    kf = KFold(n_splits=6, random_state=25, shuffle=True)\n",
    "    cv_results = cross_val_score(model, X_train, y_train, cv=kf)\n",
    "    results.append(cv_results)\n",
    "\n",
    "plt.boxplot(results, labels=models.keys())\n",
    "plt.show()"
   ]
  },
  {
   "cell_type": "code",
   "execution_count": 13,
   "id": "ba2db9ff",
   "metadata": {},
   "outputs": [
    {
     "data": {
      "text/plain": [
       "array([0.84928918, 0.84863177, 0.85576923])"
      ]
     },
     "metadata": {},
     "output_type": "display_data"
    }
   ],
   "source": [
    "forest_clf = RandomForestClassifier(n_estimators=500, random_state=25)\n",
    "display(cross_val_score(forest_clf, X_train, y_train, cv=3, scoring='accuracy'))"
   ]
  },
  {
   "cell_type": "code",
   "execution_count": 14,
   "id": "10a48c39",
   "metadata": {},
   "outputs": [
    {
     "data": {
      "text/plain": [
       "array(['y'], dtype=object)"
      ]
     },
     "metadata": {},
     "output_type": "display_data"
    }
   ],
   "source": [
    "forest_clf.fit(X_train, y_train)\n",
    "display(forest_clf.predict([rdm_letter]))"
   ]
  },
  {
   "cell_type": "code",
   "execution_count": 16,
   "id": "80353077",
   "metadata": {},
   "outputs": [],
   "source": [
    "n_trees = np.arange(10,710,10)\n",
    "results_dict = {}\n",
    "for i in n_trees:\n",
    "    forest_new = RandomForestClassifier(n_estimators=i, random_state=25)       \n",
    "    cv_results = cross_val_score(forest_new, X_train, y_train, cv=3)\n",
    "    results_dict[i] = cv_results"
   ]
  },
  {
   "cell_type": "code",
   "execution_count": 34,
   "id": "07ed469a",
   "metadata": {},
   "outputs": [
    {
     "data": {
      "text/html": [
       "<div>\n",
       "<style scoped>\n",
       "    .dataframe tbody tr th:only-of-type {\n",
       "        vertical-align: middle;\n",
       "    }\n",
       "\n",
       "    .dataframe tbody tr th {\n",
       "        vertical-align: top;\n",
       "    }\n",
       "\n",
       "    .dataframe thead th {\n",
       "        text-align: right;\n",
       "    }\n",
       "</style>\n",
       "<table border=\"1\" class=\"dataframe\">\n",
       "  <thead>\n",
       "    <tr style=\"text-align: right;\">\n",
       "      <th></th>\n",
       "      <th>0</th>\n",
       "      <th>1</th>\n",
       "      <th>2</th>\n",
       "    </tr>\n",
       "  </thead>\n",
       "  <tbody>\n",
       "    <tr>\n",
       "      <th>10</th>\n",
       "      <td>0.804010</td>\n",
       "      <td>0.801381</td>\n",
       "      <td>0.799885</td>\n",
       "    </tr>\n",
       "    <tr>\n",
       "      <th>20</th>\n",
       "      <td>0.826773</td>\n",
       "      <td>0.824719</td>\n",
       "      <td>0.826594</td>\n",
       "    </tr>\n",
       "    <tr>\n",
       "      <th>30</th>\n",
       "      <td>0.834826</td>\n",
       "      <td>0.832690</td>\n",
       "      <td>0.833826</td>\n",
       "    </tr>\n",
       "    <tr>\n",
       "      <th>40</th>\n",
       "      <td>0.842304</td>\n",
       "      <td>0.839428</td>\n",
       "      <td>0.839086</td>\n",
       "    </tr>\n",
       "    <tr>\n",
       "      <th>50</th>\n",
       "      <td>0.842551</td>\n",
       "      <td>0.841072</td>\n",
       "      <td>0.842291</td>\n",
       "    </tr>\n",
       "  </tbody>\n",
       "</table>\n",
       "</div>"
      ],
      "text/plain": [
       "           0         1         2\n",
       "10  0.804010  0.801381  0.799885\n",
       "20  0.826773  0.824719  0.826594\n",
       "30  0.834826  0.832690  0.833826\n",
       "40  0.842304  0.839428  0.839086\n",
       "50  0.842551  0.841072  0.842291"
      ]
     },
     "execution_count": 34,
     "metadata": {},
     "output_type": "execute_result"
    }
   ],
   "source": [
    "Trees_acc = pd.DataFrame.from_dict(results_dict, orient='index')\n",
    "Trees_acc.head()"
   ]
  },
  {
   "cell_type": "code",
   "execution_count": 35,
   "id": "36ef8d35",
   "metadata": {},
   "outputs": [
    {
     "data": {
      "text/html": [
       "<div>\n",
       "<style scoped>\n",
       "    .dataframe tbody tr th:only-of-type {\n",
       "        vertical-align: middle;\n",
       "    }\n",
       "\n",
       "    .dataframe tbody tr th {\n",
       "        vertical-align: top;\n",
       "    }\n",
       "\n",
       "    .dataframe thead th {\n",
       "        text-align: right;\n",
       "    }\n",
       "</style>\n",
       "<table border=\"1\" class=\"dataframe\">\n",
       "  <thead>\n",
       "    <tr style=\"text-align: right;\">\n",
       "      <th></th>\n",
       "      <th>0</th>\n",
       "      <th>1</th>\n",
       "      <th>2</th>\n",
       "      <th>mean</th>\n",
       "    </tr>\n",
       "  </thead>\n",
       "  <tbody>\n",
       "    <tr>\n",
       "      <th>10</th>\n",
       "      <td>0.804010</td>\n",
       "      <td>0.801381</td>\n",
       "      <td>0.799885</td>\n",
       "      <td>0.801759</td>\n",
       "    </tr>\n",
       "    <tr>\n",
       "      <th>20</th>\n",
       "      <td>0.826773</td>\n",
       "      <td>0.824719</td>\n",
       "      <td>0.826594</td>\n",
       "      <td>0.826029</td>\n",
       "    </tr>\n",
       "    <tr>\n",
       "      <th>30</th>\n",
       "      <td>0.834826</td>\n",
       "      <td>0.832690</td>\n",
       "      <td>0.833826</td>\n",
       "      <td>0.833781</td>\n",
       "    </tr>\n",
       "    <tr>\n",
       "      <th>40</th>\n",
       "      <td>0.842304</td>\n",
       "      <td>0.839428</td>\n",
       "      <td>0.839086</td>\n",
       "      <td>0.840273</td>\n",
       "    </tr>\n",
       "    <tr>\n",
       "      <th>50</th>\n",
       "      <td>0.842551</td>\n",
       "      <td>0.841072</td>\n",
       "      <td>0.842291</td>\n",
       "      <td>0.841971</td>\n",
       "    </tr>\n",
       "  </tbody>\n",
       "</table>\n",
       "</div>"
      ],
      "text/plain": [
       "           0         1         2      mean\n",
       "10  0.804010  0.801381  0.799885  0.801759\n",
       "20  0.826773  0.824719  0.826594  0.826029\n",
       "30  0.834826  0.832690  0.833826  0.833781\n",
       "40  0.842304  0.839428  0.839086  0.840273\n",
       "50  0.842551  0.841072  0.842291  0.841971"
      ]
     },
     "execution_count": 35,
     "metadata": {},
     "output_type": "execute_result"
    }
   ],
   "source": [
    "Trees_acc['mean'] = Trees_acc.mean(axis=1)"
   ]
  },
  {
   "cell_type": "code",
   "execution_count": 40,
   "id": "bc35e29b",
   "metadata": {},
   "outputs": [
    {
     "data": {
      "image/png": "[encoded data removed]",
      "text/plain": [
       "<Figure size 432x288 with 1 Axes>"
      ]
     },
     "metadata": {
      "needs_background": "light"
     },
     "output_type": "display_data"
    }
   ],
   "source": [
    "Trees_acc.plot(kind='line')\n",
    "plt.xlabel(\"Number of trees\")\n",
    "plt.ylabel(\"Accuracy Score\")\n",
    "plt.axhline(0.851, 0, 700, linestyle='--', color='y')\n",
    "plt.show()"
   ]
  },
  {
   "cell_type": "markdown",
   "id": "77d1d82d",
   "metadata": {},
   "source": [
    "Trying to balance the dataset"
   ]
  },
  {
   "cell_type": "code",
   "execution_count": 42,
   "id": "fa43519a",
   "metadata": {},
   "outputs": [],
   "source": [
    "from imblearn.over_sampling import RandomOverSampler\n",
    "over_sampler = RandomOverSampler(random_state=42)\n",
    "X_res, y_res = over_sampler.fit_resample(X_train, y_train)"
   ]
  },
  {
   "cell_type": "code",
   "execution_count": 43,
   "id": "2f227c72",
   "metadata": {},
   "outputs": [
    {
     "data": {
      "text/plain": [
       "array([0.96624127, 0.96965323, 0.98261155])"
      ]
     },
     "metadata": {},
     "output_type": "display_data"
    }
   ],
   "source": [
    "display(cross_val_score(forest_clf, X_res, y_res, cv=3, scoring='accuracy'))"
   ]
  },
  {
   "cell_type": "code",
   "execution_count": 45,
   "id": "c1ab1a53",
   "metadata": {},
   "outputs": [
    {
     "data": {
      "text/plain": [
       "array([0.92395105, 0.98956276, 0.9636918 , 0.96978098, 0.97269101,\n",
       "       0.98592739, 0.98658892, 0.99181946, 0.96859504, 0.9977305 ,\n",
       "       0.98762307, 0.86492709, 0.98151261, 0.9527047 , 0.96673358,\n",
       "       0.97528464, 0.9946267 , 0.97717423, 0.98622047, 0.97815603,\n",
       "       0.9592068 , 0.98129014, 0.99041443, 0.99462213, 0.98558915,\n",
       "       0.97583333])"
      ]
     },
     "metadata": {},
     "output_type": "display_data"
    },
    {
     "data": {
      "text/plain": [
       "array([0.9016207 , 0.997441  , 0.98862667, 0.99459767, 0.90133637,\n",
       "       0.99601933, 0.96218368, 0.99971567, 0.83309639, 1.        ,\n",
       "       0.998294  , 0.96133068, 0.99630367, 0.91640603, 0.95848735,\n",
       "       0.99857833, 1.        , 0.96161501, 0.99715667, 0.98038101,\n",
       "       0.96275235, 0.999147  , 0.99886267, 0.999147  , 0.99175434,\n",
       "       0.99886267])"
      ]
     },
     "metadata": {},
     "output_type": "display_data"
    },
    {
     "data": {
      "text/plain": [
       "array([0.9126493 , 0.99348626, 0.976     , 0.98203257, 0.93565525,\n",
       "       0.99094767, 0.97423348, 0.99575191, 0.89575054, 0.99886396,\n",
       "       0.99292986, 0.91058443, 0.98885283, 0.9342029 , 0.9625928 ,\n",
       "       0.98679404, 0.99730611, 0.96933219, 0.99165842, 0.97926725,\n",
       "       0.9609763 , 0.99013807, 0.99462061, 0.99687943, 0.98866213,\n",
       "       0.98721371])"
      ]
     },
     "metadata": {},
     "output_type": "display_data"
    }
   ],
   "source": [
    "y_res_pred = cross_val_predict(forest_clf, X_res, y_res, cv=3)\n",
    "display(precision_score(y_res, y_res_pred, average=None)) # precisão\n",
    "display(recall_score(y_res, y_res_pred, average=None)) # sensibilidade\n",
    "display(f1_score(y_res, y_res_pred, average=None)) # media harmonica da precisão e revocação"
   ]
  },
  {
   "cell_type": "code",
   "execution_count": 46,
   "id": "69a99bd1",
   "metadata": {},
   "outputs": [
    {
     "data": {
      "text/plain": [
       "array(['a', 'b', 'c', 'd', 'e', 'f', 'g', 'h', 'i', 'j', 'k', 'l', 'm',\n",
       "       'n', 'o', 'p', 'q', 'r', 's', 't', 'u', 'v', 'w', 'x', 'y', 'z'],\n",
       "      dtype=object)"
      ]
     },
     "execution_count": 46,
     "metadata": {},
     "output_type": "execute_result"
    }
   ],
   "source": [
    "forest_clf.classes_"
   ]
  },
  {
   "cell_type": "code",
   "execution_count": 47,
   "id": "f6e6aaef",
   "metadata": {},
   "outputs": [
    {
     "data": {
      "image/png": "[encoded data removed]",
      "text/plain": [
       "<Figure size 288x288 with 1 Axes>"
      ]
     },
     "metadata": {
      "needs_background": "light"
     },
     "output_type": "display_data"
    }
   ],
   "source": [
    "conf_mx = confusion_matrix(y_res, y_res_pred)\n",
    "plt.matshow(conf_mx, cmap=plt.cm.gray)\n",
    "plt.show()"
   ]
  },
  {
   "cell_type": "code",
   "execution_count": 48,
   "id": "2c2d7675",
   "metadata": {},
   "outputs": [
    {
     "data": {
      "image/png": "[encoded data removed]",
      "text/plain": [
       "<Figure size 288x288 with 1 Axes>"
      ]
     },
     "metadata": {
      "needs_background": "light"
     },
     "output_type": "display_data"
    }
   ],
   "source": [
    "row_sums = conf_mx.sum(axis=1, keepdims=True)\n",
    "norm_conf_mx = conf_mx / row_sums\n",
    "np.fill_diagonal(norm_conf_mx, 0)\n",
    "plt.matshow(norm_conf_mx, cmap=plt.cm.gray)\n",
    "\n",
    "plt.show()"
   ]
  },
  {
   "cell_type": "code",
   "execution_count": 52,
   "id": "0dbf5a24",
   "metadata": {},
   "outputs": [],
   "source": [
    "def plot_digits(instances, images_per_row=10, **options):\n",
    "    size = 8\n",
    "    images_per_row = min(len(instances), images_per_row)\n",
    "    images = [instance.reshape(2*size,size) for instance in instances]\n",
    "    n_rows = (len(instances) - 1) // images_per_row + 1\n",
    "    row_images = []\n",
    "    n_empty = n_rows * images_per_row - len(instances)\n",
    "    images.append(np.zeros((size, size * n_empty)))\n",
    "    for row in range(n_rows):\n",
    "        rimages = images[row * images_per_row : (row + 1) * images_per_row]\n",
    "        row_images.append(np.concatenate(rimages, axis=1))\n",
    "    image = np.concatenate(row_images, axis=0)\n",
    "    plt.imshow(image, cmap = mp.cm.binary, **options)\n",
    "    plt.axis(\"off\")"
   ]
  },
  {
   "cell_type": "code",
   "execution_count": 57,
   "id": "7473ba67",
   "metadata": {},
   "outputs": [
    {
     "data": {
      "image/png": "[encoded data removed]",
      "text/plain": [
       "<Figure size 576x576 with 4 Axes>"
      ]
     },
     "metadata": {
      "needs_background": "light"
     },
     "output_type": "display_data"
    }
   ],
   "source": [
    "cl_a, cl_b = 'i', 'l'\n",
    "X_aa = X_res[(y_res == cl_a) & (y_res_pred == cl_a)]\n",
    "X_ab = X_res[(y_res == cl_a) & (y_res_pred == cl_b)]\n",
    "X_ba = X_res[(y_res == cl_b) & (y_res_pred == cl_a)]\n",
    "X_bb = X_res[(y_res == cl_b) & (y_res_pred == cl_b)]\n",
    "\n",
    "plt.figure(figsize=(8,8))\n",
    "\n",
    "plt.subplot(221); plot_digits(X_aa[:25], images_per_row=5)\n",
    "plt.subplot(222); plot_digits(X_ab[:25], images_per_row=5)\n",
    "plt.subplot(223); plot_digits(X_ba[:25], images_per_row=5)\n",
    "plt.subplot(224); plot_digits(X_bb[:25], images_per_row=5)\n",
    "plt.show()"
   ]
  },
  {
   "cell_type": "code",
   "execution_count": 59,
   "id": "56974c04",
   "metadata": {},
   "outputs": [
    {
     "data": {
      "text/plain": [
       "array([0.86761032, 0.90231362, 0.88549618, 0.82952183, 0.92292225,\n",
       "       0.88995215, 0.79197995, 0.82231405, 0.93422025, 0.92682927,\n",
       "       0.81132075, 0.79047619, 0.9447983 , 0.89550348, 0.92340067,\n",
       "       0.86414254, 0.78846154, 0.86476427, 0.91442543, 0.8748068 ,\n",
       "       0.84790875, 0.77720207, 0.90196078, 0.89622642, 0.81967213,\n",
       "       0.87306502])"
      ]
     },
     "metadata": {},
     "output_type": "display_data"
    },
    {
     "data": {
      "text/plain": [
       "array([0.86115702, 0.91168831, 0.9148265 , 0.92147806, 0.92602555,\n",
       "       0.67391304, 0.85175202, 0.77131783, 0.85753053, 0.66666667,\n",
       "       0.78754579, 0.88110403, 0.92515593, 0.93828799, 0.9384089 ,\n",
       "       0.93946731, 0.40196078, 0.86907731, 0.89473684, 0.88299532,\n",
       "       0.86996099, 0.75376884, 0.88461538, 0.76612903, 0.68306011,\n",
       "       0.8597561 ])"
      ]
     },
     "metadata": {},
     "output_type": "display_data"
    },
    {
     "data": {
      "text/plain": [
       "array([0.86437163, 0.90697674, 0.89992242, 0.87308534, 0.9244713 ,\n",
       "       0.76701031, 0.82077922, 0.796     , 0.89423417, 0.7755102 ,\n",
       "       0.79925651, 0.83333333, 0.93487395, 0.91639663, 0.93084429,\n",
       "       0.90023202, 0.53246753, 0.86691542, 0.904474  , 0.87888199,\n",
       "       0.85879332, 0.76530612, 0.89320388, 0.82608696, 0.74515648,\n",
       "       0.86635945])"
      ]
     },
     "metadata": {},
     "output_type": "display_data"
    }
   ],
   "source": [
    "forest_clf2 = RandomForestClassifier(n_estimators=500, random_state=25)\n",
    "forest_clf2.fit(X_res, y_res)\n",
    "y_pred = forest_clf.predict(X_test)\n",
    "display(precision_score(y_test, y_pred, average=None)) # precisão\n",
    "display(recall_score(y_test, y_pred, average=None)) # sensibilidade\n",
    "display(f1_score(y_test, y_pred, average=None)) # media harmonica da precisão e revocação"
   ]
  },
  {
   "cell_type": "code",
   "execution_count": 62,
   "id": "8429a86e",
   "metadata": {},
   "outputs": [
    {
     "data": {
      "image/png": "[encoded data removed]",
      "text/plain": [
       "<Figure size 288x288 with 1 Axes>"
      ]
     },
     "metadata": {
      "needs_background": "light"
     },
     "output_type": "display_data"
    }
   ],
   "source": [
    "conf_mx_test = confusion_matrix(y_test, y_pred)\n",
    "plt.matshow(conf_mx_test, cmap=plt.cm.Blues)\n",
    "plt.show()"
   ]
  },
  {
   "cell_type": "code",
   "execution_count": 94,
   "id": "e664b699",
   "metadata": {},
   "outputs": [
    {
     "data": {
      "text/plain": [
       "array([ 16,   2,   2,   7,   7,   0, 632,   0,   3,   0,   2,   0,   1,\n",
       "         4,   8,   3,  11,   8,  18,   3,   2,   0,   0,   0,   9,   4],\n",
       "      dtype=int64)"
      ]
     },
     "execution_count": 94,
     "metadata": {},
     "output_type": "execute_result"
    }
   ],
   "source": [
    "conf_mx_test[6,:]"
   ]
  },
  {
   "cell_type": "code",
   "execution_count": 95,
   "id": "161dfa23",
   "metadata": {},
   "outputs": [
    {
     "data": {
      "image/png": "[encoded data removed]",
      "text/plain": [
       "<Figure size 576x576 with 3 Axes>"
      ]
     },
     "metadata": {
      "needs_background": "light"
     },
     "output_type": "display_data"
    }
   ],
   "source": [
    "cl_a2, cl_b2 = 'g', 'q'\n",
    "X_aa2 = X_test[(y_test == cl_a2) & (y_pred == cl_a2)]\n",
    "X_ab2 = X_test[(y_test == cl_a2) & (y_pred == cl_b2)]\n",
    "X_ba2 = X_test[(y_test == cl_b2) & (y_pred == cl_a2)]\n",
    "X_bb2 = X_test[(y_test == cl_b2) & (y_pred == cl_b2)]\n",
    "\n",
    "plt.figure(figsize=(8,8))\n",
    "\n",
    "plt.subplot(221); plot_digits(X_aa2[:25], images_per_row=5)\n",
    "#plt.subplot(222); plot_digits(X_ab2[:25], images_per_row=5)\n",
    "plt.subplot(223); plot_digits(X_ba2[:25], images_per_row=5)\n",
    "plt.subplot(224); plot_digits(X_bb2[:25], images_per_row=5)\n",
    "plt.show()"
   ]
  },
  {
   "cell_type": "code",
   "execution_count": 90,
   "id": "9c69a43a",
   "metadata": {},
   "outputs": [
    {
     "data": {
      "text/plain": [
       "11"
      ]
     },
     "execution_count": 90,
     "metadata": {},
     "output_type": "execute_result"
    }
   ],
   "source": [
    "len(X_ab2)"
   ]
  },
  {
   "cell_type": "code",
   "execution_count": null,
   "id": "64f29c2f",
   "metadata": {},
   "outputs": [],
   "source": []
  }
 ],
 "metadata": {
  "kernelspec": {
   "display_name": "Python 3 (ipykernel)",
   "language": "python",
   "name": "python3"
  },
  "language_info": {
   "codemirror_mode": {
    "name": "ipython",
    "version": 3
   },
   "file_extension": ".py",
   "mimetype": "text/x-python",
   "name": "python",
   "nbconvert_exporter": "python",
   "pygments_lexer": "ipython3",
   "version": "3.9.12"
  }
 },
 "nbformat": 4,
 "nbformat_minor": 5
}
